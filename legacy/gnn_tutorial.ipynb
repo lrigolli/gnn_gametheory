{
 "cells": [
  {
   "cell_type": "code",
   "execution_count": 90,
   "id": "14178354",
   "metadata": {},
   "outputs": [],
   "source": [
    "import torch\n",
    "from torch import Tensor\n",
    "from torch_geometric.nn import GCNConv\n",
    "from torch_geometric.datasets import Planetoid\n",
    "import torch.nn.functional as F"
   ]
  },
  {
   "cell_type": "code",
   "execution_count": 91,
   "id": "595c9df6",
   "metadata": {},
   "outputs": [],
   "source": [
    "import numpy as np\n",
    "import networkx as nx\n",
    "import matplotlib.pyplot as plt\n",
    "import itertools"
   ]
  },
  {
   "cell_type": "code",
   "execution_count": 145,
   "id": "a8e856aa",
   "metadata": {},
   "outputs": [],
   "source": [
    "# a_ij * p_ij * w_i. w_i weight given by 1/degree(node_i) \n",
    "def loss_fn(output, adjacency_mat, payoff_mat):\n",
    "    payoff_sum = torch.tensor([0.0])\n",
    "    num_nodes = output.size()[0]\n",
    "    id_mat = torch.eye(num_nodes)\n",
    "    nodes_degree = sum(adjacency_mat)\n",
    "    for i in range(num_nodes):\n",
    "        for j in range(num_nodes):\n",
    "            coeff = torch.matmul(torch.matmul(adjacency_mat,id_mat[i,:]),id_mat[j,:])\n",
    "            payoff = torch.matmul(torch.matmul(payoff_mat,output[i,:]),output[j,:])\n",
    "            payoff_sum += coeff * payoff * (1/nodes_degree[i])\n",
    "    neg_payoff = - payoff_sum\n",
    "    return neg_payoff"
   ]
  },
  {
   "cell_type": "code",
   "execution_count": 146,
   "id": "71306a33",
   "metadata": {},
   "outputs": [],
   "source": [
    "def create_graph_nodes(num_nodes, num_feats, seed):\n",
    "    np.random.seed(seed)\n",
    "    # Create nodes and corresponding features \n",
    "\n",
    "    x_list = []\n",
    "    for n in range(num_nodes):\n",
    "        x_unnorm = np.random.uniform(size=num_feats)\n",
    "        x_norm = x_unnorm/sum(x_unnorm)\n",
    "        x_list.append(x_norm)\n",
    "    x_tensor = torch.tensor(x_list, dtype=torch.float)\n",
    "    return x_tensor"
   ]
  },
  {
   "cell_type": "code",
   "execution_count": 147,
   "id": "32a1eee7",
   "metadata": {},
   "outputs": [],
   "source": [
    "def create_edges(kind, num_nodes, num_feats, seed, self_intersection):\n",
    "    np.random.seed(seed)\n",
    "    # Create symmetric edges with no self-interaction on nodes\n",
    "    edges_list = []\n",
    "    \n",
    "    if kind == 'n_strat_uniform_prob_link':\n",
    "        prob_link = GRAPHS_EX[kind]['prob_link']\n",
    "        for i in itertools.combinations(range(num_nodes),2):\n",
    "            if np.random.binomial(n=1, p=prob_link) == 1:\n",
    "                edges_list.append(i)\n",
    "                edges_list.append(i[::-1])\n",
    "    elif kind == '3_strat_2_graphs_1_el_in_middle':\n",
    "        prob_link = GRAPHS_EX[kind]['prob_link']\n",
    "        end1 = (num_nodes//2)\n",
    "        end2 = num_nodes - 1\n",
    "        for i in itertools.combinations(range(end1),2):\n",
    "            if np.random.binomial(n=1, p=prob_link) == 1:\n",
    "                edges_list.append(i)\n",
    "                edges_list.append(i[::-1])\n",
    "        for i in itertools.combinations(range(end1,end2),2):\n",
    "            if np.random.binomial(n=1, p=prob_link) == 1:\n",
    "                edges_list.append(i)\n",
    "                edges_list.append(i[::-1])\n",
    "        edges_list.append((0,num_nodes-1))\n",
    "        edges_list.append((num_nodes-1,0))\n",
    "        edges_list.append((num_nodes-2,num_nodes-1))\n",
    "        edges_list.append((num_nodes-1,num_nodes-2))\n",
    "    \n",
    "    if self_intersection:\n",
    "        for i in range(num_nodes):\n",
    "            edges_list.append((i,i))\n",
    "        \n",
    "        \n",
    "    return edges_list"
   ]
  },
  {
   "cell_type": "code",
   "execution_count": 176,
   "id": "4a267cda",
   "metadata": {},
   "outputs": [],
   "source": [
    "GRAPHS_EX = {'n_strat_uniform_prob_link':{'prob_link':0.5}, '3_strat_2_graphs_1_el_in_middle':{'prob_link':1.0}}"
   ]
  },
  {
   "cell_type": "code",
   "execution_count": 206,
   "id": "e995715d",
   "metadata": {},
   "outputs": [],
   "source": [
    "num_feats = 2\n",
    "num_nodes = 9"
   ]
  },
  {
   "cell_type": "code",
   "execution_count": 207,
   "id": "4a2b729d",
   "metadata": {},
   "outputs": [],
   "source": [
    "# Create nodes and their features\n",
    "X = create_graph_nodes(num_nodes, num_feats, seed=7)"
   ]
  },
  {
   "cell_type": "code",
   "execution_count": 208,
   "id": "0fbef16c",
   "metadata": {},
   "outputs": [
    {
     "data": {
      "text/plain": [
       "tensor([[0.0891, 0.9109],\n",
       "        [0.3773, 0.6227],\n",
       "        [0.6449, 0.3551],\n",
       "        [0.8743, 0.1257],\n",
       "        [0.3494, 0.6506]])"
      ]
     },
     "execution_count": 208,
     "metadata": {},
     "output_type": "execute_result"
    }
   ],
   "source": [
    "X[:5,] # num_nodes x num_features"
   ]
  },
  {
   "cell_type": "code",
   "execution_count": 209,
   "id": "d943e6a1",
   "metadata": {},
   "outputs": [],
   "source": [
    "# Create edges\n",
    "edges_list = create_edges(kind='3_strat_2_graphs_1_el_in_middle', num_nodes=num_nodes, num_feats=num_feats, seed=7, self_intersection=False)\n",
    "edges = torch.tensor(edges_list, dtype=int).T"
   ]
  },
  {
   "cell_type": "code",
   "execution_count": 181,
   "id": "0378f555",
   "metadata": {},
   "outputs": [
    {
     "name": "stdout",
     "output_type": "stream",
     "text": [
      "num nodes: 9\n",
      "num edges: 28\n"
     ]
    },
    {
     "data": {
      "image/png": "[encoded data removed]",
      "text/plain": [
       "<Figure size 640x480 with 1 Axes>"
      ]
     },
     "metadata": {},
     "output_type": "display_data"
    }
   ],
   "source": [
    "# Visualize graph\n",
    "G = nx.Graph()\n",
    "G.add_nodes_from(range(num_nodes))\n",
    "G.add_edges_from(edges_list)\n",
    "nx.draw_networkx(G)\n",
    "\n",
    "print(f\"num nodes: {num_nodes}\")\n",
    "print(f\"num edges: {len(edges_list)}\")"
   ]
  },
  {
   "cell_type": "code",
   "execution_count": 210,
   "id": "73294275",
   "metadata": {},
   "outputs": [],
   "source": [
    "def create_payoff_matrix(kind):\n",
    "    # Define payoff matrix P(node1,node2) = node1^T*P*node2  to define fitness when two nodes interact\n",
    "    \n",
    "    if kind == 'ex1':\n",
    "        p12 = 1.0; p13 = 0.5; p23 = 0.5; p11 = 1.0; p22 = 1.0; p33 = 10.0\n",
    "        P = torch.tensor([[p11, p12 , p13],[p12, p22 , p23],[p13, p23 , p33]])\n",
    "        \n",
    "    if kind == 'ex2':\n",
    "        p12 = -10.0; p13 = 0.0; p23 = 0.0; p11 = 10.0; p22 = 10.0; p33 = 5.0\n",
    "        P = torch.tensor([[p11, p12 , p13],[p12, p22 , p23],[p13, p23 , p33]])\n",
    "    \n",
    "    if kind == 'ex3':\n",
    "        torch.manual_seed(0)\n",
    "        P = torch.rand(num_feats,num_feats, dtype=torch.float)\n",
    "        # P = (P + P.T)/2 # make it symmetric\n",
    "    \n",
    "    if kind == 'ex4':\n",
    "        # rock-scissors-paper. # not symmetric\n",
    "        p11 = 0.0; p12 = 1.0; p13 = -1.0; p23 = 1.0; p22 = 0.0; p33 = 0.0\n",
    "        p21 = -p12; p31 = -p13; p23 = -p32;\n",
    "        P = torch.tensor([[p11, p12 , p13],[p21, p22 , p23],[p31, p32 , p33]])\n",
    "    \n",
    "    if kind == 'ex5':\n",
    "        # hawk-dove. if v> d all hawk, otherwise v\n",
    "        v = 2.0\n",
    "        d = 1.0\n",
    "        p11 = (v-d)/2; p12 = v; p21 =0; p22 = d/2;\n",
    "        P = torch.tensor([[p11, p12],[p21, p22]])\n",
    "    \n",
    "    \n",
    "    return P"
   ]
  },
  {
   "cell_type": "code",
   "execution_count": 211,
   "id": "23868144",
   "metadata": {},
   "outputs": [],
   "source": [
    "# Create adjacency matrix corresponding to edges list\n",
    "A = np.zeros((num_nodes,num_nodes))\n",
    "for el in edges_list:\n",
    "    A[el[0],el[1]] = 1\n",
    "A = torch.tensor(A, dtype=torch.float)"
   ]
  },
  {
   "cell_type": "code",
   "execution_count": 212,
   "id": "c7192d39",
   "metadata": {},
   "outputs": [],
   "source": [
    "# Create payoff matrix\n",
    "P = create_payoff_matrix(kind='ex5')"
   ]
  },
  {
   "cell_type": "code",
   "execution_count": 213,
   "id": "7c387fab",
   "metadata": {},
   "outputs": [
    {
     "data": {
      "text/plain": [
       "tensor([[0.5000, 2.0000],\n",
       "        [0.0000, 0.5000]])"
      ]
     },
     "execution_count": 213,
     "metadata": {},
     "output_type": "execute_result"
    }
   ],
   "source": [
    "P"
   ]
  },
  {
   "cell_type": "code",
   "execution_count": 198,
   "id": "281ad1b1",
   "metadata": {},
   "outputs": [],
   "source": [
    "# Loss l. Graph G, P payoff. nodes n1, n2\n",
    "# l(G) = - sum_{edges}(n1^T * P * n2)"
   ]
  },
  {
   "cell_type": "code",
   "execution_count": 231,
   "id": "3c0d60cc",
   "metadata": {},
   "outputs": [
    {
     "data": {
      "text/plain": [
       "tensor([0.0891, 0.3773, 0.6449, 0.8743, 0.3494, 0.4580, 0.8525, 0.2406, 0.3206])"
      ]
     },
     "execution_count": 231,
     "metadata": {},
     "output_type": "execute_result"
    }
   ],
   "source": [
    "X_dove = torch.stack((torch.ones(num_nodes),torch.zeros(num_nodes)))\n"
   ]
  },
  {
   "cell_type": "code",
   "execution_count": null,
   "id": "fd13de1f",
   "metadata": {},
   "outputs": [],
   "source": [
    "X_dove"
   ]
  },
  {
   "cell_type": "code",
   "execution_count": 214,
   "id": "68557a6e",
   "metadata": {},
   "outputs": [
    {
     "data": {
      "text/plain": [
       "tensor([-6.5346])"
      ]
     },
     "execution_count": 214,
     "metadata": {},
     "output_type": "execute_result"
    }
   ],
   "source": [
    "loss_fn(output=X.float(), adjacency_mat=A.float(), payoff_mat =P.float())"
   ]
  },
  {
   "cell_type": "code",
   "execution_count": 215,
   "id": "1f0a5318",
   "metadata": {},
   "outputs": [],
   "source": [
    "# Convolution update\n"
   ]
  },
  {
   "cell_type": "code",
   "execution_count": 216,
   "id": "c53900a3",
   "metadata": {},
   "outputs": [],
   "source": [
    "# Architecture: num layers\n",
    "\n",
    "class GCN(torch.nn.Module):\n",
    "    def __init__(self, num_features, hid1_in, hid2_in):\n",
    "        super().__init__()\n",
    "        # todo: add more layers\n",
    "        # todo: simplify gcn layers\n",
    "        self.conv1 = GCNConv(num_features, hid1_in)\n",
    "        self.conv2 = GCNConv(hid1_in, hid2_in)\n",
    "        self.conv3 = GCNConv(hid2_in, num_features)\n",
    "\n",
    "    def forward(self, x: Tensor, edge_index: Tensor) -> Tensor:\n",
    "        # x: Node feature matrix of shape [num_nodes, num_features]\n",
    "        # edge_index: Graph connectivity matrix of shape [2, num_edges]\n",
    "        x = self.conv1(x, edge_index).relu()\n",
    "        #x = F.softmax(x, dim=1)\n",
    "        x = self.conv2(x, edge_index)\n",
    "        #x = F.softmax(x, dim=1)\n",
    "        x = self.conv3(x, edge_index)\n",
    "        x = F.softmax(x, dim=1)\n",
    "        return x"
   ]
  },
  {
   "cell_type": "code",
   "execution_count": 217,
   "id": "2075bb69",
   "metadata": {},
   "outputs": [
    {
     "data": {
      "text/plain": [
       "torch.Size([2, 28])"
      ]
     },
     "execution_count": 217,
     "metadata": {},
     "output_type": "execute_result"
    }
   ],
   "source": [
    "edges.size()"
   ]
  },
  {
   "cell_type": "code",
   "execution_count": 227,
   "id": "473dab68",
   "metadata": {},
   "outputs": [],
   "source": [
    "preds = []\n",
    "losses = []\n",
    "num_epochs = 2000\n",
    "hid1_in = 10\n",
    "hid2_in = 10\n",
    "\n",
    "model = GCN(num_features = num_feats, hid1_in=hid1_in, hid2_in=hid2_in)\n",
    "optimizer = torch.optim.Adam(model.parameters(), lr=0.01)\n",
    "\n",
    "for epoch in range(num_epochs):\n",
    "    pred = model(X, edges)\n",
    "    loss = loss_fn(output=pred, adjacency_mat=A, payoff_mat=P)\n",
    "    #loss = F.cross_entropy(pred[data.train_mask], data.y[data.train_mask])\n",
    "\n",
    "    # Backpropagation\n",
    "    optimizer.zero_grad()\n",
    "    loss.backward()\n",
    "    optimizer.step()\n",
    "    \n",
    "    preds.append(pred)\n",
    "    losses.append(loss.item())"
   ]
  },
  {
   "cell_type": "code",
   "execution_count": 228,
   "id": "a729ead6",
   "metadata": {},
   "outputs": [
    {
     "data": {
      "text/plain": [
       "Text(0, 0.5, 'loss')"
      ]
     },
     "execution_count": 228,
     "metadata": {},
     "output_type": "execute_result"
    },
    {
     "data": {
      "image/png": "[encoded data removed]",
      "text/plain": [
       "<Figure size 640x480 with 1 Axes>"
      ]
     },
     "metadata": {},
     "output_type": "display_data"
    }
   ],
   "source": [
    "fig, ax = plt.subplots(1,1)\n",
    "ax.plot(range(num_epochs),losses)\n",
    "ax.set_xlabel('epoch')\n",
    "ax.set_ylabel('loss')"
   ]
  },
  {
   "cell_type": "code",
   "execution_count": 229,
   "id": "8d8f2a52",
   "metadata": {},
   "outputs": [
    {
     "data": {
      "text/plain": [
       "tensor([[0.9926, 0.0074],\n",
       "        [0.1877, 0.8123],\n",
       "        [0.1877, 0.8123],\n",
       "        [0.1877, 0.8123],\n",
       "        [0.1932, 0.8068],\n",
       "        [0.1932, 0.8068],\n",
       "        [0.1932, 0.8068],\n",
       "        [0.9928, 0.0072],\n",
       "        [0.0040, 0.9960]], grad_fn=<SoftmaxBackward0>)"
      ]
     },
     "execution_count": 229,
     "metadata": {},
     "output_type": "execute_result"
    }
   ],
   "source": [
    "pred"
   ]
  },
  {
   "cell_type": "code",
   "execution_count": 28,
   "id": "5e5ec446",
   "metadata": {},
   "outputs": [
    {
     "ename": "NameError",
     "evalue": "name 'stop' is not defined",
     "output_type": "error",
     "traceback": [
      "\u001b[0;31m---------------------------------------------------------------------------\u001b[0m",
      "\u001b[0;31mNameError\u001b[0m                                 Traceback (most recent call last)",
      "Cell \u001b[0;32mIn[28], line 1\u001b[0m\n\u001b[0;32m----> 1\u001b[0m \u001b[43mstop\u001b[49m\n",
      "\u001b[0;31mNameError\u001b[0m: name 'stop' is not defined"
     ]
    }
   ],
   "source": [
    "stop"
   ]
  },
  {
   "cell_type": "code",
   "execution_count": null,
   "id": "de4f561e",
   "metadata": {},
   "outputs": [],
   "source": [
    "# Interpretation as multiple strategy of single individual or single strategies for multiple individuals"
   ]
  },
  {
   "cell_type": "code",
   "execution_count": null,
   "id": "13e993cd",
   "metadata": {},
   "outputs": [],
   "source": []
  },
  {
   "cell_type": "code",
   "execution_count": null,
   "id": "06ce7ce9",
   "metadata": {},
   "outputs": [],
   "source": []
  },
  {
   "cell_type": "code",
   "execution_count": null,
   "id": "c7191463",
   "metadata": {},
   "outputs": [],
   "source": [
    "stop"
   ]
  },
  {
   "cell_type": "code",
   "execution_count": null,
   "id": "20bb685e",
   "metadata": {},
   "outputs": [],
   "source": [
    "# Move tensor to GPU if available\n",
    "print(torch.cuda.is_available())\n",
    "if torch.cuda.is_available():\n",
    "    tensor = tensor.to(\"cuda\")"
   ]
  },
  {
   "cell_type": "code",
   "execution_count": null,
   "id": "a6fda25e",
   "metadata": {},
   "outputs": [],
   "source": [
    "\"\"\"np.random.seed(7)\n",
    "# Create payoff matrix to define loss function\n",
    "A0 = np.zeros(shape=(num_nodes, num_nodes))\n",
    "prob_link = 0.5\n",
    "for i in range(num_nodes):\n",
    "    A0[i,i:] = np.random.binomial(n=1, p=prob_link, size=num_nodes-i)    \n",
    "A = A0 + A0.T\n",
    "for i in range(num_nodes):\n",
    "    A[i,i] = 0\"\"\""
   ]
  }
 ],
 "metadata": {
  "kernelspec": {
   "display_name": "gnn_env",
   "language": "python",
   "name": "gnn_env"
  },
  "language_info": {
   "codemirror_mode": {
    "name": "ipython",
    "version": 3
   },
   "file_extension": ".py",
   "mimetype": "text/x-python",
   "name": "python",
   "nbconvert_exporter": "python",
   "pygments_lexer": "ipython3",
   "version": "3.11.3"
  }
 },
 "nbformat": 4,
 "nbformat_minor": 5
}
