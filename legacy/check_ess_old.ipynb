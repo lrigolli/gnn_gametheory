{
 "cells": [
  {
   "cell_type": "code",
   "execution_count": 1,
   "id": "8647114b",
   "metadata": {},
   "outputs": [],
   "source": [
    "import numpy as np"
   ]
  },
  {
   "cell_type": "code",
   "execution_count": 2,
   "id": "fffd77f1",
   "metadata": {},
   "outputs": [],
   "source": [
    "# Payoff matrix\n",
    "F = np.matrix([[1,10,0],[0,1,0],[0,0,1]])"
   ]
  },
  {
   "cell_type": "code",
   "execution_count": 3,
   "id": "6f3f1154",
   "metadata": {},
   "outputs": [],
   "source": [
    "p =np.ones(3)/3"
   ]
  },
  {
   "cell_type": "code",
   "execution_count": 4,
   "id": "31597f19",
   "metadata": {},
   "outputs": [],
   "source": [
    "p = np.array([0.2,0.5,0.2])\n",
    "n = len(p)"
   ]
  },
  {
   "cell_type": "code",
   "execution_count": 5,
   "id": "f8cd144b",
   "metadata": {},
   "outputs": [],
   "source": [
    "A = np.eye(n -1)"
   ]
  },
  {
   "cell_type": "code",
   "execution_count": 6,
   "id": "ec543af4",
   "metadata": {},
   "outputs": [
    {
     "data": {
      "text/plain": [
       "<function concatenate at 0x105156f70>"
      ]
     },
     "execution_count": 6,
     "metadata": {},
     "output_type": "execute_result"
    }
   ],
   "source": [
    "np.concatenate"
   ]
  },
  {
   "cell_type": "code",
   "execution_count": null,
   "id": "acb45990",
   "metadata": {},
   "outputs": [],
   "source": [
    "def check_ess(p:np.array):\n",
    "    \n",
    "    # phi: R^{n-1} -> R^{n} linear parametrization of unit symplex \n",
    "    # phi(x1,...,x{n-1}) = (x1+p1, ..., x{n-1} + p{n-1}, 1 -x1 - ... - x{n-1} + pn)     \n",
    "    # if p \\in int(symplex) then phi is a local parametrization of neighbourhood of p\n",
    "    phi = np.zeros((n,n-1))\n",
    "    for i in range(n-1):\n",
    "        phi[i,i] = 1\n",
    "    phi[n-1,:] = -np.ones(n-1)\n",
    "    \n",
    "    # f: R^{n} -> R\n",
    "    # f(y1,...,yn) = p^T*F*y - y^T*F*y\n",
    "    \n",
    "    # g = f \\circ phi\n",
    "    # phi(0) = p  \n",
    "    # f(p) = 0\n",
    "    # g(0) = 0\n",
    "    \n",
    "    # if g has a maximum in 0 then p is ESS\n",
    "    # let's compute gradient and hessian\n",
    "\n",
    "    # compute gradient of g in 0\n",
    "    grad = np.matmul(phi.T, (np.matmul(p.T,F) - np.matmul(F.T,p) - np.matmul(F,p)).T) \n",
    "    \n",
    "    # compute hessian matrix of g in 0\n",
    "    H = np.matmul(np.matmul(-phi.T, F + F.T), phi)\n",
    "    \n",
    "    is_ess = False\n",
    "    \n",
    "    if np.min(grad == 0):\n",
    "        print(f\"{p} is a critical point\")\n",
    "        if np.min(H < 0):\n",
    "            print(f\"{p} is a strict local minimum\") \n",
    "            is_ess =True\n",
    "    \n",
    "    return grad, H, is_ess"
   ]
  },
  {
   "cell_type": "code",
   "execution_count": 10,
   "id": "3a19efa9",
   "metadata": {},
   "outputs": [
    {
     "data": {
      "text/plain": [
       "matrix([[-5. ],\n",
       "        [-0.3]])"
      ]
     },
     "execution_count": 10,
     "metadata": {},
     "output_type": "execute_result"
    }
   ],
   "source": [
    "grad"
   ]
  },
  {
   "cell_type": "code",
   "execution_count": 11,
   "id": "2ccf6a8f",
   "metadata": {},
   "outputs": [
    {
     "data": {
      "text/plain": [
       "matrix([[ -4., -12.],\n",
       "        [-12.,  -4.]])"
      ]
     },
     "execution_count": 11,
     "metadata": {},
     "output_type": "execute_result"
    }
   ],
   "source": [
    "H"
   ]
  },
  {
   "cell_type": "code",
   "execution_count": 16,
   "id": "2cbb0a60",
   "metadata": {},
   "outputs": [
    {
     "data": {
      "text/plain": [
       "True"
      ]
     },
     "execution_count": 16,
     "metadata": {},
     "output_type": "execute_result"
    }
   ],
   "source": [
    "if np.min(H < 0):\n",
    "    print(\"strict local minimum\")"
   ]
  },
  {
   "cell_type": "code",
   "execution_count": 18,
   "id": "2bedbc43",
   "metadata": {},
   "outputs": [
    {
     "data": {
      "text/plain": [
       "False"
      ]
     },
     "execution_count": 18,
     "metadata": {},
     "output_type": "execute_result"
    }
   ],
   "source": [
    "if np.min(grad == 0):\n",
    "    print(\"critical point\")"
   ]
  },
  {
   "cell_type": "code",
   "execution_count": 12,
   "id": "75f3c480",
   "metadata": {},
   "outputs": [
    {
     "ename": "NameError",
     "evalue": "name 'stop' is not defined",
     "output_type": "error",
     "traceback": [
      "\u001b[0;31m---------------------------------------------------------------------------\u001b[0m",
      "\u001b[0;31mNameError\u001b[0m                                 Traceback (most recent call last)",
      "Cell \u001b[0;32mIn[12], line 1\u001b[0m\n\u001b[0;32m----> 1\u001b[0m \u001b[43mstop\u001b[49m\n",
      "\u001b[0;31mNameError\u001b[0m: name 'stop' is not defined"
     ]
    }
   ],
   "source": [
    "stop"
   ]
  },
  {
   "cell_type": "code",
   "execution_count": null,
   "id": "95167710",
   "metadata": {},
   "outputs": [],
   "source": [
    "H = -phi.T * (F + F.T) * phi"
   ]
  },
  {
   "cell_type": "code",
   "execution_count": null,
   "id": "47e55af4",
   "metadata": {},
   "outputs": [],
   "source": [
    "A"
   ]
  },
  {
   "cell_type": "code",
   "execution_count": null,
   "id": "3bbcc8f3",
   "metadata": {},
   "outputs": [],
   "source": [
    "np.ones(n-1)"
   ]
  },
  {
   "cell_type": "code",
   "execution_count": null,
   "id": "bd9ac28b",
   "metadata": {},
   "outputs": [],
   "source": [
    "np.block([A,-np.ones(n-1)])"
   ]
  },
  {
   "cell_type": "code",
   "execution_count": null,
   "id": "cf0c0721",
   "metadata": {},
   "outputs": [],
   "source": [
    "def fitness_neigh_point_symplex(p: np.array, P: np.matrix) -> bool:\n",
    "    n = len(p)\n",
    "    \n",
    "    # phi: (-eps, eps) x B_t ^{n-2}(p) -> R^n parametrization\n",
    "    # f: R^n -> R fitness \n",
    "    \n",
    "    # Initialize symbols\n",
    "    x = symbols([f\"x{i}\" for i in range(n-2)] , real=True)  # variables in domain (R^n)\n",
    "    r = symbols(\"r\", real=True) # additional variable used to parametrize neigbourhood of point in symplex\n",
    "    y = symbols([f\"y{i}\" for i in range(n)] , real=True)  # transformed variables (neighbourhood of point in symplex in R^n)\n",
    "    \n",
    "    p_col = p.reshape((n,1))\n",
    "    u = np.array(np.matmul(P, p_col)).reshape(n,)\n",
    "    \n",
    "    # fitness function\n",
    "    f = 0\n",
    "    for i in range(n):\n",
    "        f += y[i] * u[i]\n",
    "        \n",
    "    # hyperplane constraint\n",
    "    expr1 = 1\n",
    "    for i in range(n):\n",
    "        expr1 -= y[i]  \n",
    "        \n",
    "    # constraint to ball of radius r centered in p\n",
    "    expr2 = 0\n",
    "    for i in range(n):\n",
    "        expr2 += (y[i]-p[i])*(y[i]-p[i]) \n",
    "    expr2 -= r*r\n",
    "    \n",
    "    sol = solve([expr1, expr2], [y[n-2], y[n-1]], dict=True) # it's equivalent which solution to pick. can take first one\n",
    "    #expr2 = solve(g, x[1], dict=True)[0][x[1]]\n",
    "    #expr2 = r/abs(r)*expr2\n",
    "\n",
    "    # compose fitness function with parametrization of B_r(p) intersected with hyperplane, with p \\in int(symplex) \n",
    "    f_half1 = f.copy()\n",
    "    f_half2 = f.copy()\n",
    "    for i in range(n-2,n):\n",
    "        f_half1 = f_half1.subs(y[i],sol[0][y[i]])\n",
    "        f_half2 = f_half2.subs(y[i],sol[1][y[i]])\n",
    "    for j in range(n-2):\n",
    "        f_half1 = f_half1.subs(y[j], x[j]) \n",
    "        f_half2 = f_half2.subs(y[j], x[j]) \n",
    "        \n",
    "    vars_param = tuple([r] + x)\n",
    "    # todo: parametrize entire ball, not only half!! need to use sign of r\n",
    "        \n",
    "    #return f\n",
    "    \n",
    "    #return ball_param, vars_param\n",
    "    return f_half1, f_half2, vars_param"
   ]
  },
  {
   "cell_type": "code",
   "execution_count": null,
   "id": "0afd3a9a",
   "metadata": {},
   "outputs": [],
   "source": [
    "# f_real = Function('f', real=True)"
   ]
  },
  {
   "cell_type": "code",
   "execution_count": null,
   "id": "f630569d",
   "metadata": {},
   "outputs": [],
   "source": [
    "f1, f2, vars_param = fitness_neigh_point_symplex(p=p, P=P)"
   ]
  },
  {
   "cell_type": "code",
   "execution_count": null,
   "id": "13ba63db",
   "metadata": {},
   "outputs": [],
   "source": [
    "g1 = lambdify([vars_param], f1)\n",
    "g2 = lambdify([vars_param], f2)"
   ]
  },
  {
   "cell_type": "code",
   "execution_count": null,
   "id": "bd689cbc",
   "metadata": {},
   "outputs": [],
   "source": [
    "q=(0.1,0.21)"
   ]
  },
  {
   "cell_type": "code",
   "execution_count": null,
   "id": "4027218e",
   "metadata": {},
   "outputs": [],
   "source": [
    "q=(0,p[0])"
   ]
  },
  {
   "cell_type": "code",
   "execution_count": null,
   "id": "076aaf5c",
   "metadata": {},
   "outputs": [],
   "source": [
    "p"
   ]
  },
  {
   "cell_type": "code",
   "execution_count": null,
   "id": "e54978a9",
   "metadata": {},
   "outputs": [],
   "source": [
    "def parametrize_full_neigh(g1, g2, q: np.array) -> float:\n",
    "    if q[0] >=0:\n",
    "        y = g1(q)\n",
    "    else:\n",
    "        y = g2(q)\n",
    "    return y"
   ]
  },
  {
   "cell_type": "code",
   "execution_count": null,
   "id": "298a1cba",
   "metadata": {},
   "outputs": [],
   "source": [
    "parametrize_full_neigh(g1,g2,q)"
   ]
  },
  {
   "cell_type": "code",
   "execution_count": null,
   "id": "f2b6376e",
   "metadata": {},
   "outputs": [],
   "source": [
    "eps1 = 0.01\n",
    "eps2 = 0.01\n",
    "coord1 = np.linspace(q[0]-eps1,q[0]+eps1,10)\n",
    "coord2 = np.linspace(q[1]-eps2,q[1]+eps2,10)"
   ]
  },
  {
   "cell_type": "code",
   "execution_count": null,
   "id": "339f4fa3",
   "metadata": {},
   "outputs": [],
   "source": [
    "coord2"
   ]
  },
  {
   "cell_type": "code",
   "execution_count": null,
   "id": "3fad0444",
   "metadata": {},
   "outputs": [],
   "source": [
    "parametrize_full_neigh(g1,g2,(0,0.21))"
   ]
  },
  {
   "cell_type": "code",
   "execution_count": null,
   "id": "70078ff3",
   "metadata": {},
   "outputs": [],
   "source": [
    "f1"
   ]
  },
  {
   "cell_type": "code",
   "execution_count": null,
   "id": "a9dbdb0a",
   "metadata": {},
   "outputs": [],
   "source": [
    "l = 0.21 \n",
    "- l**2 + 0.4*l - 0.04"
   ]
  },
  {
   "cell_type": "code",
   "execution_count": null,
   "id": "09ffa2df",
   "metadata": {},
   "outputs": [],
   "source": [
    "f1.evalf()"
   ]
  },
  {
   "cell_type": "code",
   "execution_count": null,
   "id": "55e6ede4",
   "metadata": {},
   "outputs": [],
   "source": [
    "import matplotlib.pyplot as plt"
   ]
  },
  {
   "cell_type": "code",
   "execution_count": null,
   "id": "affa9bbd",
   "metadata": {},
   "outputs": [],
   "source": [
    "y = "
   ]
  },
  {
   "cell_type": "code",
   "execution_count": null,
   "id": "92c659a0",
   "metadata": {},
   "outputs": [],
   "source": [
    "yy = []\n",
    "fig, ax = plt.subplots(1,1)\n",
    "for i in coord2:\n",
    "    #for j in coord2:\n",
    "    yy.append(parametrize_full_neigh(g1,g2,(0,i)))\n",
    "ax.plot(coord1,yy)"
   ]
  },
  {
   "cell_type": "code",
   "execution_count": null,
   "id": "6ed2aae1",
   "metadata": {},
   "outputs": [],
   "source": [
    "yy"
   ]
  },
  {
   "cell_type": "code",
   "execution_count": null,
   "id": "5f24e185",
   "metadata": {},
   "outputs": [],
   "source": []
  },
  {
   "cell_type": "code",
   "execution_count": null,
   "id": "0f44791b",
   "metadata": {},
   "outputs": [],
   "source": [
    "coord2"
   ]
  },
  {
   "cell_type": "code",
   "execution_count": null,
   "id": "0e6f567b",
   "metadata": {},
   "outputs": [],
   "source": [
    "for i in "
   ]
  },
  {
   "cell_type": "code",
   "execution_count": null,
   "id": "c654d39c",
   "metadata": {},
   "outputs": [],
   "source": []
  },
  {
   "cell_type": "code",
   "execution_count": null,
   "id": "ea6f8b54",
   "metadata": {},
   "outputs": [],
   "source": [
    "vars_param"
   ]
  },
  {
   "cell_type": "code",
   "execution_count": null,
   "id": "b80d42ef",
   "metadata": {},
   "outputs": [],
   "source": [
    "f1"
   ]
  },
  {
   "cell_type": "code",
   "execution_count": null,
   "id": "c6df52ee",
   "metadata": {},
   "outputs": [],
   "source": [
    "g2((0,0.2))"
   ]
  },
  {
   "cell_type": "code",
   "execution_count": null,
   "id": "b6b8023e",
   "metadata": {},
   "outputs": [],
   "source": [
    "g1((0,0.2))"
   ]
  },
  {
   "cell_type": "code",
   "execution_count": null,
   "id": "c66795d6",
   "metadata": {},
   "outputs": [],
   "source": [
    "g1((0.1,0.21))"
   ]
  },
  {
   "cell_type": "code",
   "execution_count": null,
   "id": "8b9bb861",
   "metadata": {},
   "outputs": [],
   "source": [
    "q_grid = []"
   ]
  },
  {
   "cell_type": "code",
   "execution_count": null,
   "id": "ae0fb0b8",
   "metadata": {},
   "outputs": [],
   "source": [
    "g1()"
   ]
  },
  {
   "cell_type": "code",
   "execution_count": null,
   "id": "4f4aba32",
   "metadata": {},
   "outputs": [],
   "source": [
    "np.array([0]).concat(p[:len(p)-2])"
   ]
  },
  {
   "cell_type": "code",
   "execution_count": null,
   "id": "0c65118f",
   "metadata": {},
   "outputs": [],
   "source": [
    "q = tuple([0] + list(p[:len(p)-2]))"
   ]
  },
  {
   "cell_type": "code",
   "execution_count": null,
   "id": "33f0f794",
   "metadata": {},
   "outputs": [],
   "source": [
    "q"
   ]
  },
  {
   "cell_type": "code",
   "execution_count": null,
   "id": "faf14d94",
   "metadata": {},
   "outputs": [],
   "source": [
    "q = (0,0.19)"
   ]
  },
  {
   "cell_type": "code",
   "execution_count": null,
   "id": "17a93b0f",
   "metadata": {},
   "outputs": [],
   "source": [
    "stop"
   ]
  },
  {
   "cell_type": "code",
   "execution_count": null,
   "id": "35689d5d",
   "metadata": {},
   "outputs": [],
   "source": [
    "vars_param"
   ]
  },
  {
   "cell_type": "code",
   "execution_count": null,
   "id": "e2d13220",
   "metadata": {},
   "outputs": [],
   "source": [
    "p"
   ]
  },
  {
   "cell_type": "code",
   "execution_count": null,
   "id": "e230f562",
   "metadata": {},
   "outputs": [],
   "source": [
    "f1.evalf(np.array(0,0.2))"
   ]
  },
  {
   "cell_type": "code",
   "execution_count": null,
   "id": "6af894f4",
   "metadata": {},
   "outputs": [],
   "source": [
    "f2"
   ]
  },
  {
   "cell_type": "code",
   "execution_count": null,
   "id": "d53cb5cc",
   "metadata": {},
   "outputs": [],
   "source": [
    "f(p)"
   ]
  },
  {
   "cell_type": "code",
   "execution_count": null,
   "id": "e3917ccb",
   "metadata": {},
   "outputs": [],
   "source": [
    "f = lambdify([x, y], x + y)\n",
    "f(1, 1)"
   ]
  },
  {
   "cell_type": "code",
   "execution_count": null,
   "id": "df3cf12f",
   "metadata": {},
   "outputs": [],
   "source": [
    "f\n",
    "g = -f"
   ]
  },
  {
   "cell_type": "code",
   "execution_count": null,
   "id": "e1ceeae1",
   "metadata": {},
   "outputs": [],
   "source": [
    "g"
   ]
  },
  {
   "cell_type": "code",
   "execution_count": null,
   "id": "e064c768",
   "metadata": {},
   "outputs": [],
   "source": [
    "def f(r, sol, *args):\n",
    "    if args[0] >=0:\n",
    "        a = 3\n",
    "    else:\n",
    "        a = 4\n",
    "        \n",
    "    print(r)\n",
    "    print(sol)\n",
    "    print(args)\n",
    "    return a"
   ]
  },
  {
   "cell_type": "code",
   "execution_count": null,
   "id": "42e53883",
   "metadata": {},
   "outputs": [],
   "source": []
  },
  {
   "cell_type": "code",
   "execution_count": null,
   "id": "9a98d9fd",
   "metadata": {},
   "outputs": [],
   "source": [
    "f(1,2,3)"
   ]
  },
  {
   "cell_type": "code",
   "execution_count": null,
   "id": "d3a86edb",
   "metadata": {},
   "outputs": [],
   "source": [
    "f"
   ]
  },
  {
   "cell_type": "code",
   "execution_count": null,
   "id": "4abc469e",
   "metadata": {},
   "outputs": [],
   "source": [
    "def fun(r, f, g):\n",
    "    if r>=0:\n",
    "        h = f\n",
    "    else:\n",
    "        h = g\n",
    "    return h"
   ]
  },
  {
   "cell_type": "code",
   "execution_count": null,
   "id": "c2700731",
   "metadata": {},
   "outputs": [],
   "source": [
    "fun(-0.1,f,g)"
   ]
  },
  {
   "cell_type": "code",
   "execution_count": null,
   "id": "8ecce98e",
   "metadata": {},
   "outputs": [],
   "source": [
    "import sympy\n",
    "help(sympy.core.add.Add)"
   ]
  },
  {
   "cell_type": "code",
   "execution_count": null,
   "id": "153a1367",
   "metadata": {},
   "outputs": [],
   "source": [
    "vars_param"
   ]
  },
  {
   "cell_type": "code",
   "execution_count": null,
   "id": "96c815d0",
   "metadata": {},
   "outputs": [],
   "source": [
    "sol"
   ]
  },
  {
   "cell_type": "code",
   "execution_count": null,
   "id": "e8d1d4d5",
   "metadata": {},
   "outputs": [],
   "source": [
    "type(f)"
   ]
  },
  {
   "cell_type": "code",
   "execution_count": null,
   "id": "ce0ca822",
   "metadata": {},
   "outputs": [],
   "source": [
    "hess = [[f.diff(el_x).diff(el_y) for el_x in vars_param] for el_y in vars_param]"
   ]
  },
  {
   "cell_type": "code",
   "execution_count": null,
   "id": "5d134b64",
   "metadata": {},
   "outputs": [],
   "source": [
    "vars_param"
   ]
  },
  {
   "cell_type": "code",
   "execution_count": null,
   "id": "64b89a15",
   "metadata": {},
   "outputs": [],
   "source": [
    "hess"
   ]
  },
  {
   "cell_type": "code",
   "execution_count": null,
   "id": "0340c104",
   "metadata": {},
   "outputs": [],
   "source": [
    "def get_hessian(p: np.array, f, vars_param) -> bool:\n",
    "    m = len(vars_param)\n",
    "    # compute hessian at p\n",
    "    hess = [[f.diff(el_x).diff(el_y) for el_x in vars_param] for el_y in vars_param]\n",
    "    subs_dict = {}\n",
    "    for i in range(len(p)-2):\n",
    "        subs_dict[vars_param[i]] = p[i]\n",
    "    subs_dict.update({vars_param[-1]:0})\n",
    "    H = np.zeros((m,m))\n",
    "    for i in range(m):\n",
    "        for j in range(m):\n",
    "            H[i,j] = hess[i][j].evalf(subs=subs_dict)\n",
    "    return H"
   ]
  },
  {
   "cell_type": "code",
   "execution_count": null,
   "id": "f2ff7b09",
   "metadata": {},
   "outputs": [],
   "source": [
    "h = get_hessian(p=p, f=f, vars_param=vars_param)"
   ]
  },
  {
   "cell_type": "code",
   "execution_count": null,
   "id": "7e440036",
   "metadata": {},
   "outputs": [],
   "source": [
    "h"
   ]
  },
  {
   "cell_type": "code",
   "execution_count": null,
   "id": "2515f938",
   "metadata": {},
   "outputs": [],
   "source": [
    "m=3\n",
    "H = np.zeros((m,m))\n",
    "for i in range(m):\n",
    "    for j in range(m):\n",
    "        print('a')\n",
    "        H[i,j] = h[i][j].evalf(subs={vars_param[-1]:0})\n",
    "        print('b')"
   ]
  },
  {
   "cell_type": "code",
   "execution_count": null,
   "id": "84b6b0d6",
   "metadata": {},
   "outputs": [],
   "source": []
  },
  {
   "cell_type": "code",
   "execution_count": null,
   "id": "8f9070ba",
   "metadata": {},
   "outputs": [],
   "source": [
    "h[0][0].evalf(subs={vars_param[-1]:0})"
   ]
  },
  {
   "cell_type": "code",
   "execution_count": null,
   "id": "00f854c0",
   "metadata": {},
   "outputs": [],
   "source": [
    "def fitness_neigh_point_symplex(p: np.array, P: np.matrix) -> bool:\n",
    "    n = len(p)\n",
    "    \n",
    "    # phi: (-eps, eps) x B_t ^{n-2}(p) -> R^n parametrization\n",
    "    # f: R^n -> R fitness \n",
    "    \n",
    "    # Initialize symbols\n",
    "    x = symbols([f\"x{i}\" for i in range(n-2)] , real=True)  # variables in domain (R^n)\n",
    "    r = symbols(\"r\", real=True) # additional variable used to parametrize neigbourhood of point in symplex\n",
    "    y = symbols([f\"y{i}\" for i in range(n)] , real=True)  # transformed variables (neighbourhood of point in symplex in R^n)\n",
    "    \n",
    "    p_col = p.reshape((n,1))\n",
    "    u = np.array(np.matmul(P, p_col)).reshape(n,)\n",
    "    \n",
    "    # fitness function\n",
    "    f = 0\n",
    "    for i in range(n):\n",
    "        f += y[i] * u[i]\n",
    "        \n",
    "    # hyperplane constraint\n",
    "    expr1 = 1\n",
    "    for i in range(n):\n",
    "        expr1 -= y[i]  \n",
    "        \n",
    "    # constraint to ball of radius r centered in p\n",
    "    expr2 = 0\n",
    "    for i in range(n):\n",
    "        expr2 += (y[i]-p[i])*(y[i]-p[i]) \n",
    "    expr2 -= r*r\n",
    "    \n",
    "    sol = solve([expr1, expr2], [y[n-2], y[n-1]], dict=True) # it's equivalent which solution to pick. can take first one\n",
    "    #expr2 = solve(g, x[1], dict=True)[0][x[1]]\n",
    "    #expr2 = r/abs(r)*expr2\n",
    "    \n",
    "    #def g(z,x1):\n",
    "    #    if z>=0:\n",
    "    \n",
    "    print(f)\n",
    "    # compose fitness function with parametrization of B_r(p) intersected with hyperplane, with p \\in int(symplex) \n",
    "    for i in range(n-2,n):\n",
    "        f = f.subs(y[i],sol[0][y[i]])\n",
    "        print(f)\n",
    "    for j in range(n-2):\n",
    "        f = f.subs(y[j], x[j])  \n",
    "        print(f)\n",
    "    \n",
    "    vars_param = x + [r]\n",
    "    # todo: parametrize entire ball, not only half!! need to use sign of r\n",
    "        \n",
    "    #return f\n",
    "    \n",
    "    return f, vars_param, sol"
   ]
  }
 ],
 "metadata": {
  "kernelspec": {
   "display_name": "gnn_env",
   "language": "python",
   "name": "gnn_env"
  },
  "language_info": {
   "codemirror_mode": {
    "name": "ipython",
    "version": 3
   },
   "file_extension": ".py",
   "mimetype": "text/x-python",
   "name": "python",
   "nbconvert_exporter": "python",
   "pygments_lexer": "ipython3",
   "version": "3.11.3"
  }
 },
 "nbformat": 4,
 "nbformat_minor": 5
}
