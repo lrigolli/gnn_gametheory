{
 "cells": [
  {
   "cell_type": "code",
   "execution_count": 9,
   "id": "48329061-74bc-4c60-bc4c-5941a9ce0fcd",
   "metadata": {},
   "outputs": [],
   "source": [
    "import nashpy as nash\n",
    "import numpy as np"
   ]
  },
  {
   "cell_type": "code",
   "execution_count": 17,
   "id": "19b6c0fd-a119-4cbf-a78e-bf3fd7a21264",
   "metadata": {},
   "outputs": [
    {
     "name": "stdout",
     "output_type": "stream",
     "text": [
      "(array([1., 0.]), array([0., 1.]))\n",
      "(array([0., 1.]), array([1., 0.]))\n",
      "(array([0.7, 0.3]), array([0.7, 0.3]))\n"
     ]
    }
   ],
   "source": [
    "# Create the payoff matrix\n",
    "v=0.7\n",
    "c=1.0\n",
    "A = np.array([[(v-c)/2,v],[0,v/2]]) # A is the row player\n",
    "B = np.array([[(v-c)/2,0],[v,v/2]]) # B is the column player\n",
    "game2 = nash.Game(A,B)\n",
    "# Find the Nash Equilibrium with Support Enumeration\n",
    "equilibria = game2.support_enumeration()\n",
    "for eq in equilibria:\n",
    "    print(eq)"
   ]
  },
  {
   "cell_type": "code",
   "execution_count": 21,
   "id": "5d121d82-edec-4c5c-a0c6-8b74eae4fd3e",
   "metadata": {},
   "outputs": [
    {
     "data": {
      "text/plain": [
       "[[-0.15000000000000002, 0.7], [0, 0.35]]"
      ]
     },
     "execution_count": 21,
     "metadata": {},
     "output_type": "execute_result"
    }
   ],
   "source": [
    "[[(v-c)/2, v], [0, v/2]]\n"
   ]
  },
  {
   "cell_type": "code",
   "execution_count": 28,
   "id": "414ac60e-bc45-4ffd-b733-1d582f8d2ee3",
   "metadata": {},
   "outputs": [
    {
     "name": "stdout",
     "output_type": "stream",
     "text": [
      "(array([1., 0., 0.]), array([0., 1., 0.]))\n",
      "(array([0., 1., 0.]), array([1., 0., 0.]))\n",
      "(array([0., 0., 1.]), array([0., 0., 1.]))\n",
      "(array([0.5, 0.5, 0. ]), array([0.5, 0.5, 0. ]))\n"
     ]
    }
   ],
   "source": [
    "v=2\n",
    "c=4\n",
    "A = np.array([[(v-c)/2, v, (v-c)/2], [0, v/2, v/2], [(v-c)/2, v/2, v/2]])\n",
    "B = A.T\n",
    "game = nash.Game(A,B)\n",
    "# Find the Nash Equilibrium with Support Enumeration\n",
    "equilibria = game.support_enumeration()\n",
    "for eq in equilibria:\n",
    "    print(eq)\n",
    "# 2/3 D + 1/3 R should be Nash eq, isn't it?"
   ]
  },
  {
   "cell_type": "code",
   "execution_count": 18,
   "id": "b78d679f-6d7c-43ee-813c-0dceaedf817d",
   "metadata": {},
   "outputs": [
    {
     "data": {
      "text/plain": [
       "Bi matrix game with payoff matrices:\n",
       "\n",
       "Row player:\n",
       "[[-0.15  0.7 ]\n",
       " [ 0.    0.35]]\n",
       "\n",
       "Column player:\n",
       "[[-0.15  0.  ]\n",
       " [ 0.7   0.35]]"
      ]
     },
     "execution_count": 18,
     "metadata": {},
     "output_type": "execute_result"
    }
   ],
   "source": [
    "game2"
   ]
  },
  {
   "cell_type": "code",
   "execution_count": 12,
   "id": "0760793d-aa0c-41f6-88f5-d9d57756abb0",
   "metadata": {},
   "outputs": [
    {
     "data": {
      "text/plain": [
       "Zero sum game with payoff matrices:\n",
       "\n",
       "Row player:\n",
       "[[ 0 -1  1]\n",
       " [ 1  0 -1]\n",
       " [-1  1  0]]\n",
       "\n",
       "Column player:\n",
       "[[ 0  1 -1]\n",
       " [-1  0  1]\n",
       " [ 1 -1  0]]"
      ]
     },
     "execution_count": 12,
     "metadata": {},
     "output_type": "execute_result"
    }
   ],
   "source": [
    "A = np.array([[0, -1, 1], [1, 0, -1], [-1, 1, 0]])\n",
    "rps = nash.Game(A)\n",
    "rps"
   ]
  },
  {
   "cell_type": "code",
   "execution_count": 13,
   "id": "8c98f8e0-0083-4c54-9e2e-ded5213b0430",
   "metadata": {},
   "outputs": [
    {
     "data": {
      "text/plain": [
       "Zero sum game with payoff matrices:\n",
       "\n",
       "Row player:\n",
       "[[ 0 -1  1]\n",
       " [ 1  0 -1]\n",
       " [-1  1  0]]\n",
       "\n",
       "Column player:\n",
       "[[ 0  1 -1]\n",
       " [-1  0  1]\n",
       " [ 1 -1  0]]"
      ]
     },
     "execution_count": 13,
     "metadata": {},
     "output_type": "execute_result"
    }
   ],
   "source": [
    "B = - A\n",
    "rps = nash.Game(A, B)\n",
    "rps"
   ]
  },
  {
   "cell_type": "code",
   "execution_count": 14,
   "id": "52caf58a-06f5-4737-ae50-8affc7b9119e",
   "metadata": {},
   "outputs": [
    {
     "data": {
      "text/plain": [
       "[(array([0.33333333, 0.33333333, 0.33333333]),\n",
       "  array([0.33333333, 0.33333333, 0.33333333]))]"
      ]
     },
     "execution_count": 14,
     "metadata": {},
     "output_type": "execute_result"
    }
   ],
   "source": [
    "eqs = rps.support_enumeration()\n",
    "\n",
    "list(eqs)"
   ]
  },
  {
   "cell_type": "code",
   "execution_count": null,
   "id": "43f62d3e-4641-4451-b75f-0c7bf0c6d278",
   "metadata": {},
   "outputs": [],
   "source": []
  }
 ],
 "metadata": {
  "kernelspec": {
   "display_name": "gnn_env",
   "language": "python",
   "name": "gnn_env"
  },
  "language_info": {
   "codemirror_mode": {
    "name": "ipython",
    "version": 3
   },
   "file_extension": ".py",
   "mimetype": "text/x-python",
   "name": "python",
   "nbconvert_exporter": "python",
   "pygments_lexer": "ipython3",
   "version": "3.11.3"
  }
 },
 "nbformat": 4,
 "nbformat_minor": 5
}
